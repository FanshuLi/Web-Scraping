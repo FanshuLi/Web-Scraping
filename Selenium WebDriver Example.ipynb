{
 "cells": [
  {
   "cell_type": "markdown",
   "metadata": {},
   "source": [
    "# Handling Dynamic Web Scraping Using Selenium WebDriver"
   ]
  },
  {
   "cell_type": "code",
   "execution_count": 10,
   "metadata": {},
   "outputs": [],
   "source": [
    "import numpy as np\n",
    "import pandas as pd\n",
    "import requests\n",
    "from bs4 import BeautifulSoup\n",
    "import urllib.request\n",
    "import re"
   ]
  },
  {
   "cell_type": "code",
   "execution_count": 11,
   "metadata": {},
   "outputs": [],
   "source": [
    "from selenium.webdriver.support import expected_conditions as EC\n",
    "from selenium.webdriver.common.by import By\n",
    "from selenium.webdriver.support.wait import WebDriverWait\n",
    "from selenium import webdriver\n",
    "from selenium.webdriver.common.keys import Keys\n",
    "from selenium.webdriver.common.action_chains import ActionChains\n",
    "import time"
   ]
  },
  {
   "cell_type": "markdown",
   "metadata": {},
   "source": [
    "## 1. Open browser"
   ]
  },
  {
   "cell_type": "code",
   "execution_count": 12,
   "metadata": {},
   "outputs": [],
   "source": [
    "browser = webdriver.Chrome(executable_path=\"/Users/kristy/Desktop/chromedriver\")\n",
    "browser.get(\"https://www.coingecko.com/en/exchanges\")"
   ]
  },
  {
   "cell_type": "markdown",
   "metadata": {},
   "source": [
    "## 2. Find the menu button (inspect--copy--copy Xpath)"
   ]
  },
  {
   "cell_type": "code",
   "execution_count": 13,
   "metadata": {},
   "outputs": [],
   "source": [
    "search_box = browser.find_element(By.XPATH, '//*[@id=\"currency-selector\"]/a') \n",
    "search_box.click()\n",
    "time.sleep(3)"
   ]
  },
  {
   "cell_type": "markdown",
   "metadata": {},
   "source": [
    "## 3. Find the target button (inspect--copy--copy full Xpath)"
   ]
  },
  {
   "cell_type": "code",
   "execution_count": 44,
   "metadata": {},
   "outputs": [],
   "source": [
    "## usd currency\n",
    "usd = browser.find_element_by_xpath('/html/body/div[2]/div[3]/div[3]/div[1]/div/div[1]/div[1]/div/ul[2]/li[1]/a/div/span[1]')"
   ]
  },
  {
   "cell_type": "code",
   "execution_count": 45,
   "metadata": {},
   "outputs": [],
   "source": [
    "## btc currency\n",
    "btc=browser.find_element_by_xpath(\"/html/body/div[2]/div[3]/div[3]/div[1]/div/div[1]/div[1]/div/ul[1]/li[1]/a/div/span[1]\")"
   ]
  },
  {
   "cell_type": "code",
   "execution_count": 46,
   "metadata": {},
   "outputs": [],
   "source": [
    "## transfer\n",
    "hover = ActionChains(browser).move_to_element(btc)\n",
    "hover.perform()\n",
    "time.sleep(3)\n",
    "btc_click = browser.find_element_by_xpath(\"/html/body/div[2]/div[3]/div[3]/div[1]/div/div[1]/div[1]/div/ul[1]/li[1]/a/div/span[1]\")\n",
    "btc_click.click()"
   ]
  },
  {
   "cell_type": "code",
   "execution_count": 14,
   "metadata": {},
   "outputs": [],
   "source": [
    "soup = BeautifulSoup(browser.page_source,'html.parser')"
   ]
  },
  {
   "cell_type": "code",
   "execution_count": 15,
   "metadata": {},
   "outputs": [],
   "source": [
    "def cko():\n",
    "    rank=[]\n",
    "    exchange=[]\n",
    "    trust_score=[]\n",
    "    volume_normalized=[]\n",
    "    volume=[]\n",
    "    website_visits=[]\n",
    "    coins=[]\n",
    "    pairs=[]\n",
    "\n",
    "\n",
    "    for tr in soup.find_all('tr'):\n",
    "        try:\n",
    "\n",
    "            tds = tr.find_all('td')\n",
    "    #         \n",
    "            if not tds:\n",
    "                pass\n",
    "            else:\n",
    "\n",
    "                rank.append(tds[0].text.strip('\\n').strip('\\n '))\n",
    "                exchange.append(tds[1].text.strip('\\n').strip('\\n').split('\\n')[0])\n",
    "                trust_score.append(tds[2].text.strip('\\n').strip('\\n '))\n",
    "                volume_normalized.append(tds[3].text.strip('\\n').strip('\\n ').strip('$').replace(',',''))\n",
    "                volume.append(tds[4].text.strip('\\n').strip('\\n ').strip('\\n\\n\\n\\n Trading Incentives').strip('$').replace(',',''))\n",
    "                website_visits.append(tds[5].text.strip('\\n').strip('\\n ').replace(',',''))\n",
    "                coins.append(tds[6].text.strip('\\n').strip('\\n '))\n",
    "                pairs.append(tds[7].text.strip('\\n').strip('\\n '))\n",
    "        except:\n",
    "            print('!')\n",
    "            pass\n",
    "    \n",
    "    return rank,exchange,volume_normalized,volume,website_visits\n",
    "    "
   ]
  },
  {
   "cell_type": "code",
   "execution_count": 16,
   "metadata": {},
   "outputs": [],
   "source": [
    "b=cko()"
   ]
  },
  {
   "cell_type": "code",
   "execution_count": 17,
   "metadata": {},
   "outputs": [],
   "source": [
    "# save as dataframe\n",
    "cko=pd.DataFrame({'cko_rank':b[0],'exchange':b[1],'cko_24hVolume':b[3],\n",
    "                  'website_visits':b[4]})"
   ]
  },
  {
   "cell_type": "code",
   "execution_count": 19,
   "metadata": {},
   "outputs": [
    {
     "data": {
      "text/html": [
       "<div>\n",
       "<style scoped>\n",
       "    .dataframe tbody tr th:only-of-type {\n",
       "        vertical-align: middle;\n",
       "    }\n",
       "\n",
       "    .dataframe tbody tr th {\n",
       "        vertical-align: top;\n",
       "    }\n",
       "\n",
       "    .dataframe thead th {\n",
       "        text-align: right;\n",
       "    }\n",
       "</style>\n",
       "<table border=\"1\" class=\"dataframe\">\n",
       "  <thead>\n",
       "    <tr style=\"text-align: right;\">\n",
       "      <th></th>\n",
       "      <th>cko_rank</th>\n",
       "      <th>exchange</th>\n",
       "      <th>cko_24hVolume</th>\n",
       "      <th>website_visits</th>\n",
       "    </tr>\n",
       "  </thead>\n",
       "  <tbody>\n",
       "    <tr>\n",
       "      <th>0</th>\n",
       "      <td>1</td>\n",
       "      <td>Binance</td>\n",
       "      <td>1502086676</td>\n",
       "      <td>18810000</td>\n",
       "    </tr>\n",
       "    <tr>\n",
       "      <th>1</th>\n",
       "      <td>2</td>\n",
       "      <td>Kraken</td>\n",
       "      <td>130526179</td>\n",
       "      <td>3091000</td>\n",
       "    </tr>\n",
       "    <tr>\n",
       "      <th>2</th>\n",
       "      <td>3</td>\n",
       "      <td>Bitfinex</td>\n",
       "      <td>110231142</td>\n",
       "      <td>2867000</td>\n",
       "    </tr>\n",
       "    <tr>\n",
       "      <th>3</th>\n",
       "      <td>4</td>\n",
       "      <td>Poloniex</td>\n",
       "      <td>33000380</td>\n",
       "      <td>1985000</td>\n",
       "    </tr>\n",
       "    <tr>\n",
       "      <th>4</th>\n",
       "      <td>5</td>\n",
       "      <td>KuCoin</td>\n",
       "      <td>32482423</td>\n",
       "      <td>2074000</td>\n",
       "    </tr>\n",
       "  </tbody>\n",
       "</table>\n",
       "</div>"
      ],
      "text/plain": [
       "  cko_rank  exchange cko_24hVolume website_visits\n",
       "0        1   Binance    1502086676       18810000\n",
       "1        2    Kraken     130526179        3091000\n",
       "2        3  Bitfinex     110231142        2867000\n",
       "3        4  Poloniex      33000380        1985000\n",
       "4        5    KuCoin      32482423        2074000"
      ]
     },
     "execution_count": 19,
     "metadata": {},
     "output_type": "execute_result"
    }
   ],
   "source": [
    "cko.head()"
   ]
  },
  {
   "cell_type": "code",
   "execution_count": null,
   "metadata": {},
   "outputs": [],
   "source": []
  }
 ],
 "metadata": {
  "kernelspec": {
   "display_name": "Python 3",
   "language": "python",
   "name": "python3"
  },
  "language_info": {
   "codemirror_mode": {
    "name": "ipython",
    "version": 3
   },
   "file_extension": ".py",
   "mimetype": "text/x-python",
   "name": "python",
   "nbconvert_exporter": "python",
   "pygments_lexer": "ipython3",
   "version": "3.6.6"
  }
 },
 "nbformat": 4,
 "nbformat_minor": 2
}
